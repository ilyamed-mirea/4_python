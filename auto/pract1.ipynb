{
 "cells": [
  {
   "cell_type": "markdown",
   "metadata": {
    "id": "LMoMoHwKThyE"
   },
   "source": [
    "# Практическое занятие №1\n",
    "*П.Н. Советов, РТУ МИРЭА*"
   ]
  },
  {
   "cell_type": "markdown",
   "metadata": {
    "id": "_sD5MjRdThyK"
   },
   "source": [
    "Запустите IDLE. Проверьте работу интерпретатора в режиме REPL на простых арифметических примерах. Научитесь создавать новые программы в редакторе IDLE, сохранять их с расширением .py, запускать программы."
   ]
  },
  {
   "cell_type": "markdown",
   "metadata": {
    "id": "CQFSO5S3ThyL"
   },
   "source": [
    "## 1. Знакомство с языком"
   ]
  },
  {
   "cell_type": "markdown",
   "metadata": {
    "id": "KEB608_CThyM"
   },
   "source": [
    "**1.1.** (уровень сложности: простейший)\n",
    "\n",
    "В реализации Питона спрятано несколько «пасхальных яиц». С одним из них мы уже сталкивались, это import this. Есть (1) как-то связанное с гравитацией. И еще одно (2), для тех, кто ленится написать даже самую первую программу, а также (3) для любителей языков программирования с непохожим на Питон синтаксисом. А еще (4) есть сюрприз для тех, кто хотел бы сравнивать объекты, как в Паскале. Удастся ли вам все это обнаружить?\n",
    "\n",
    "1) оператор космического корабля <=> - используется для сравнения двух объектов\n",
    "2) существует модуль \"antigravity\". Если вы выполните import antigravity, ваш веб-браузер откроет комикс из XKCD \"Python Antigravity\" (он откроет комикс в новом окне).\n",
    "3) Для тех, кто любит языки программирования с различным синтаксисом, существует режим \"Benevolent Dictator for Life\" (BDFL).\n",
    "4) В модуле functools есть функция cmp_to_key. Эта функция позволяет использовать функцию сравнения в качестве ключа для сортировки списков, словарей и т.д. в Python.\n",
    "\n",
    "\n",
    "**1.2.** (уровень сложности: низкий)\n",
    "\n",
    "Запишите число 42 с помощью 10 различных способов, чем разнообразнее, тем лучше. Использовать литеральную запись, без арифметики и функций. В любом варианте должно соблюдаться == 42.\n",
    "\n",
    "42\n",
    "0b101010  # (binary)\n",
    "0o52  # (octal)\n",
    "0x2A  # (hexadecimal)\n",
    "42.0  # (floating point)\n",
    "42 + 0j  # (complex number)\n",
    "int(42)  # (casting as integer)\n",
    "42 * 1  # (multiplication)\n",
    "42 / 1  # (division)\n",
    "42 // 1  # (floor division)\n",
    "\n",
    "**1.3.** (уровень сложности: низкий)\n",
    "\n",
    "Есть ли ограничения на диапазон чисел в Питоне? Как насчет чисел с плавающей запятой? Какое максимальное значение вы сумели получить до переполнения?\n",
    "\n",
    "диапазон значений int ограничен только объемом памяти, доступной в системе\n",
    "Диапазон представимых чисел в формате float составляет приблизительно ±10^308 с точностью от 15 до 17 десятичных знаков.\n",
    "\n",
    "\n",
    "**1.4.** (уровень сложности: низкий)\n",
    "\n",
    "Найдите в документации встроенную (builtin) арифметическую функцию, которая возвращает не одно, а два значения разом.\n",
    "функция divmod. Эта функция возвращает купон и остаток от операции деления в виде кортежа.\n",
    "\n"
   ]
  },
  {
   "cell_type": "markdown",
   "metadata": {
    "id": "_74vZ0JjThyM"
   },
   "source": [
    "**1.5.** (уровень сложности: низкий)\n",
    "\n",
    "C приведенным ниже циклом что-то не так. Как это исправить?\n",
    "\n",
    "Что на самом деле представляет собой 0.1 внутри интерпретатора? Можно ли увидеть его настоящее значение? [Поэкспериментируйте](https://float.exposed/0x44bf9400)."
   ]
  },
  {
   "cell_type": "code",
   "execution_count": 1,
   "outputs": [
    {
     "ename": "KeyboardInterrupt",
     "evalue": "",
     "output_type": "error",
     "traceback": [
      "\u001B[1;31m---------------------------------------------------------------------------\u001B[0m",
      "\u001B[1;31mKeyboardInterrupt\u001B[0m                         Traceback (most recent call last)",
      "Cell \u001B[1;32mIn[1], line 3\u001B[0m\n\u001B[0;32m      1\u001B[0m a \u001B[38;5;241m=\u001B[39m \u001B[38;5;241m10\u001B[39m\n\u001B[0;32m      2\u001B[0m \u001B[38;5;28;01mwhile\u001B[39;00m a \u001B[38;5;241m!=\u001B[39m \u001B[38;5;241m0\u001B[39m:\n\u001B[1;32m----> 3\u001B[0m     a \u001B[38;5;241m-\u001B[39m\u001B[38;5;241m=\u001B[39m \u001B[38;5;241m0.1\u001B[39m\n",
      "\u001B[1;31mKeyboardInterrupt\u001B[0m: "
     ]
    }
   ],
   "source": [
    "a = 10\n",
    "while a != 0:\n",
    "    a -= 0.1"
   ],
   "metadata": {
    "collapsed": false
   }
  },
  {
   "cell_type": "markdown",
   "source": [
    "значение a никогда не будет равным 0 из-за неточности представления чисел с плавающей точкой"
   ],
   "metadata": {
    "collapsed": false
   }
  },
  {
   "cell_type": "markdown",
   "metadata": {
    "id": "zDOXvWc5ThyO"
   },
   "source": [
    "**1.6.** (уровень сложности: низкий)\n",
    "\n",
    "А вот совсем уже безобидный код. Циклов нет, но программа зависает. Почему?"
   ]
  },
  {
   "cell_type": "code",
   "execution_count": null,
   "metadata": {
    "id": "mBZN-uYuThyP"
   },
   "outputs": [],
   "source": [
    "z = 1\n",
    "z <<= 40\n",
    "2 ** z"
   ]
  },
  {
   "cell_type": "markdown",
   "source": [
    "потому что 2 в степени z слишком большое число и вызывает OverflowError для int"
   ],
   "metadata": {
    "collapsed": false
   }
  },
  {
   "cell_type": "markdown",
   "metadata": {
    "id": "5rnwFrfzThyQ"
   },
   "source": [
    "**1.7.** (уровень сложности: низкий)\n",
    "\n",
    "Да-да, и этот код зацикливается! А тут-то что не так?"
   ]
  },
  {
   "cell_type": "code",
   "execution_count": null,
   "metadata": {
    "id": "Dv_O8sMUThyQ"
   },
   "outputs": [],
   "source": [
    "i = 0\n",
    "while i < 10:\n",
    "    print(i)\n",
    "    ++i"
   ]
  },
  {
   "cell_type": "markdown",
   "source": [
    "потому что в питоне нет оператора ++i"
   ],
   "metadata": {
    "collapsed": false
   }
  },
  {
   "cell_type": "markdown",
   "metadata": {
    "id": "6WKqGKweThyR"
   },
   "source": [
    "**1.8.** (уровень сложности: низкий)\n",
    "\n",
    "Что за странное выражение и странный результат?"
   ]
  },
  {
   "cell_type": "code",
   "execution_count": null,
   "metadata": {
    "id": "mcoYF491ThyR",
    "outputId": "dc84d14b-68fe-438a-8475-7359f9322ec9"
   },
   "outputs": [
    {
     "data": {
      "text/plain": [
       "-2"
      ]
     },
     "execution_count": 3,
     "metadata": {},
     "output_type": "execute_result"
    }
   ],
   "source": [
    "(True * 2 + False) * -True"
   ]
  },
  {
   "cell_type": "markdown",
   "source": [
    "(1*2+0) * (-1) = -2"
   ],
   "metadata": {
    "collapsed": false
   }
  },
  {
   "cell_type": "markdown",
   "metadata": {
    "id": "QTp_lgsKThyT"
   },
   "source": [
    "**1.9.** (уровень сложности: низкий)\n",
    "\n",
    "В Питоне можно использовать цепочки операций сравнения. Рассмотрите следующие примеры и попробуйте объяснить код:"
   ]
  },
  {
   "cell_type": "code",
   "execution_count": null,
   "metadata": {
    "id": "pYNC93Y-ThyT",
    "outputId": "d105b6ce-83bc-4027-e8fc-be09544ee4c3"
   },
   "outputs": [
    {
     "data": {
      "text/plain": [
       "True"
      ]
     },
     "execution_count": 1,
     "metadata": {},
     "output_type": "execute_result"
    }
   ],
   "source": [
    "x = 5\n",
    "1 < x < 10"
   ]
  },
  {
   "cell_type": "markdown",
   "source": [
    "True потому что 10 > 5 и 5 > 1"
   ],
   "metadata": {
    "collapsed": false
   }
  },
  {
   "cell_type": "code",
   "execution_count": null,
   "metadata": {
    "id": "7QNlsVH7ThyT",
    "outputId": "a67b96da-0dd8-4283-b306-b0fda47a8e02"
   },
   "outputs": [
    {
     "data": {
      "text/plain": [
       "False"
      ]
     },
     "execution_count": 2,
     "metadata": {},
     "output_type": "execute_result"
    }
   ],
   "source": [
    "x = 5\n",
    "1 < (x < 10)"
   ]
  },
  {
   "cell_type": "markdown",
   "source": [
    "False потому что x < 10 = True и True > 1 = False"
   ],
   "metadata": {
    "collapsed": false
   }
  },
  {
   "cell_type": "markdown",
   "metadata": {
    "id": "0iE7L5sxThyU"
   },
   "source": [
    "# 2. Сообщения об ошибках"
   ]
  },
  {
   "cell_type": "markdown",
   "metadata": {
    "id": "9DnMeSE-ThyU"
   },
   "source": [
    "К сообщениям об ошибках Питона нужно привыкать, в них нет ничего страшного. Давайте специально напишем некорректный код для того, чтобы получить каждое из указанных ниже сообщений об ошибках.\n",
    "\n",
    "**2.1.** (уровень сложности: простейший)\n",
    "\n",
    "SyntaxError: invalid syntax\n",
    "\n",
    "**2.2.** (уровень сложности: простейший)\n",
    "\n",
    "SyntaxError: cannot assign to literal\n",
    "\n",
    "**2.3.** (уровень сложности: простейший)\n",
    "\n",
    "NameError: name ... is not defined\n",
    "\n",
    "**2.4.** (уровень сложности: простейший)\n",
    "\n",
    "SyntaxError: unterminated string literal\n",
    "\n",
    "**2.5.** (уровень сложности: простейший)\n",
    "\n",
    "TypeError: unsupported operand type(s) for ...\n",
    "\n",
    "**2.6.** (уровень сложности: простейший)\n",
    "\n",
    "IndentationError: expected an indented block\n",
    "\n",
    "**2.7.** (уровень сложности: простейший)\n",
    "\n",
    "IndentationError: unindent does not match any outer indentation level\n",
    "\n",
    "**2.8.** (уровень сложности: простейший)\n",
    "\n",
    "ValueError: math domain error\n",
    "\n",
    "**2.9.** (уровень сложности: простейший)\n",
    "\n",
    "OverflowError: math range error"
   ]
  },
  {
   "cell_type": "raw",
   "source": [
    "# def = 3 # SyntaxError: invalid syntax\n",
    "# 3 = x # SyntaxError: cannot assign to literal\n",
    "# print(abcdsbcsdb) # NameError: name abcdsbcsdb is not defined\n",
    "# test = \"test # SyntaxError: unterminated string literal\n",
    "# \"test\" - 5.5 # TypeError: unsupported operand type(s) for -: 'str' and 'float'\n",
    "# def ttt():\n",
    "#     print(\"test\") # IndentationError: expected an indented block\n",
    "#         print(\"test2\")\n",
    "#    print(\"test3\") # IndentationError: unindent does not match any outer indentation level\n",
    "\n",
    "# import math\n",
    "# math.sqrt(-1) # math error\n",
    "#\n",
    "# import sys\n",
    "# sys.float_info.max * 2345 # OverflowError: math range error"
   ],
   "metadata": {
    "collapsed": false
   }
  },
  {
   "cell_type": "markdown",
   "metadata": {
    "id": "_5aGta1SThyU"
   },
   "source": [
    "## 3. Арифметика"
   ]
  },
  {
   "cell_type": "markdown",
   "metadata": {
    "id": "7vDb0vS3ThyU"
   },
   "source": [
    "Мир микропроцессоров не ограничивается только большими чипами для настольных применений. Маломощные микроконтроллеры могут выступать в роли умных датчиков в задачах, связанных с Интернетом вещей. Слабенькие 8-битные микропроцессоры являлись «сердцем» многих классических игровых приставок. Типичный 8-битный процессор не имеет аппаратной поддержки умножения. Как же выкручиваются программисты в этой ситуации?\n",
    "\n",
    "Представим, что в Питоне тоже отсутствует операция умножения. Ее можно заменить сложением. Если мы хотим умножить какое-то число x на 12, то нам понадобится 11 сложений, правильно? Это довольно много, но, оказывается, можно обойтись и меньшим числом сложений.\n",
    "\n",
    "Из арифметических операций разрешается использовать только явно указанные и в указанном количестве. Входным аргументом является переменная x. Унарный минус использовать нельзя. Тело программы должно состоять из линейной последовательности присваиваний. Оформите линейный код решения в виде функции.\n",
    "\n",
    "**3.1.** (уровень сложности: низкий)\n",
    "\n",
    "Умножение на 12. Используйте 4 сложения.\n",
    "\n",
    "def multiply_by_12(x):\n",
    "    y = x + x  # *2\n",
    "    z = y + y  # *4\n",
    "    d = z + z  # *8\n",
    "    b = d + d  # *16\n",
    "    return b - z\n",
    "\n",
    "**3.2.** (уровень сложности: низкий)\n",
    "\n",
    "Умножение на 16. Используйте 4 сложения.\n",
    "\n",
    "def multiply_by_16(x):\n",
    "    y = x + x  # *2\n",
    "    z = y + y  # *4\n",
    "    d = z + z  # *8\n",
    "    b = d + d  # *16\n",
    "    return b\n",
    "\n",
    "**3.3.** (уровень сложности: средний)\n",
    "\n",
    "Умножение на 15. Используйте 3 сложения и 2 вычитания.\n",
    "\n",
    "def multiply_by_15(x):\n",
    "    y = x + x  # *2\n",
    "    z = y + y  # *4\n",
    "    d = z + z  # *8\n",
    "    return d - (x - d)  // *8 - (x - *8)"
   ]
  },
  {
   "cell_type": "markdown",
   "metadata": {
    "id": "Rk-VIiroThyV"
   },
   "source": [
    "**3.4.** (уровень сложности: низкий)\n",
    "\n",
    "Некто попытался реализовать «наивную» функцию умножения с помощью сложений. К сожалению, в коде много ошибок. Сможете ли вы их исправить?\n",
    "\n",
    "Добавьте к naive_mul автоматическое тестирование на случайных данных. Сравнивайте с встроенным умножением, используя конструкцию assert."
   ]
  },
  {
   "cell_type": "code",
   "execution_count": 1,
   "metadata": {
    "id": "fbOxQru-ThyV"
   },
   "outputs": [
    {
     "data": {
      "text/plain": "12"
     },
     "execution_count": 1,
     "metadata": {},
     "output_type": "execute_result"
    }
   ],
   "source": [
    "def naive_mul(x, y):\n",
    "    r = sum(x for _ in range(y))\n",
    "    assert r == x * y, f'{r} != {x} * {y}'\n",
    "    return r\n",
    "\n",
    "\n",
    "naive_mul(2, 6)"
   ]
  },
  {
   "cell_type": "markdown",
   "metadata": {
    "id": "ZVy_JGdpThyV"
   },
   "source": [
    "Существует старинный метод умножения по методу русского крестьянина. Разобрать его проще на примере.\n",
    "\n",
    "Предположим, мы хотим перемножить 10 и 15:\n",
    "\n",
    "| x    | y        |\n",
    "|------|----------|\n",
    "| 10 | 15 |\n",
    "| **5**  | 30     |\n",
    "| 2      | 60     |\n",
    "| **1**  | 120    |\n",
    "\n",
    "В первом столбце последовательно записывают результаты деления на 2 с отбрасыванием остатка. Во втором столбце находятся результаты умножения на 2. Отмечаем нечетные числа в первом столбце. Складываем те числа в правом столбце, которые стоят напротив отмеченных ранее чисел. То есть 30 + 120 = 150. В нашем случае мы не учитывали исходные числа при сложении, но учитывать их, вообще говоря, может быть нужно.\n",
    "\n",
    "В этом алгоритме используются лишь простейшие операции: умножение на 2, целочисленное деление на 2, проверка на нечетность и сложение. Эти операции соответствуют тем элементарным действиям, которые эффективно выполняет любой процессор. Сам же алгоритм, несмотря на кажущуюся необычность, является вариантом умножения в столбик при использовании двоичного представления чисел:\n",
    "\n",
    "```\n",
    "   1111 \n",
    "   1010 *\n",
    "   ----\n",
    "   0000\n",
    "  1111\n",
    " 0000\n",
    "1111\n",
    "```"
   ]
  },
  {
   "cell_type": "markdown",
   "metadata": {
    "id": "2IWDSOCmThyV"
   },
   "source": [
    "**3.5.** (уровень сложности: средний)\n",
    "\n",
    "Реализуйте функцию fast_mul в соответствии с алгоритмом двоичного умножения в столбик (без рекурсии!). Добавьте автоматическое тестирование, как в случае с naive_mul.\n",
    "\n",
    "def fast_mul(a, b):\n",
    "    temp_sum = 0\n",
    "    while (a):\n",
    "        if a & 1:\n",
    "            temp_sum += b\n",
    "        b << 1\n",
    "        a >> 1\n",
    "    return temp_sum\n",
    "\n",
    "**3.6.** (уровень сложности: средний)\n",
    "\n",
    "Реализуйте аналогичную функцию fast_pow для возведения в степень. Решение необходимо получить только с помощью небольших модификаций предыдущего решения.\n",
    "\n",
    "def fast_pow(base, e):\n",
    "    res = 1\n",
    "    while (e):\n",
    "        if e % 2 != 0:\n",
    "            res = fast_mul(res, base)\n",
    "        base = fast_mul(base, base)\n",
    "        e >> 1\n",
    "    return res"
   ]
  },
  {
   "cell_type": "code",
   "execution_count": 6,
   "outputs": [
    {
     "name": "stdout",
     "output_type": "stream",
     "text": [
      "20\n",
      "49\n"
     ]
    }
   ],
   "source": [
    "def fast_mul(x, y):\n",
    "    temp_x, temp_y = x, y\n",
    "    r = 0\n",
    "    while x > 0:\n",
    "        if x & 1:\n",
    "            r += y\n",
    "        y <<= 1\n",
    "        x >>= 1\n",
    "    assert r == temp_x * temp_y, f'{r} != {temp_x} * {temp_y}'\n",
    "    return r\n",
    "\n",
    "\n",
    "print(fast_mul(10, 2))\n",
    "\n",
    "\n",
    "def fast_pow(x, y):\n",
    "    temp_x, temp_y = x, y\n",
    "    r = 1\n",
    "    while y > 0:\n",
    "        if y & 1:\n",
    "            r *= x\n",
    "        x = fast_mul(x, x)\n",
    "        y >>= 1\n",
    "    assert r == temp_x ** temp_y, f'{r} != {temp_x} ** {temp_y}'\n",
    "    return r\n",
    "\n",
    "\n",
    "print(fast_pow(7, 2))"
   ],
   "metadata": {
    "collapsed": false
   }
  },
  {
   "cell_type": "markdown",
   "metadata": {
    "id": "3-qfkKqtThyW"
   },
   "source": [
    "**3.7.** (уровень сложности: средний)\n",
    "\n",
    "Предположим, что стоит задача перемножить два 16-битных числа без знака. Однако в наличии у нас имеется только операция умножения 8-битных чисел. Оказывается, можно применить четыре 8-битных умножения, если разбить исходные числа на 8-битные половинки. Побитовые сдвиги умножениями не считаются.\n",
    "\n",
    "Выведите формулу для умножения «половинок» и реализуйте функцию mul16(x, y), используя приведенную ниже функцию mul_bits, которая имитирует умножение с ограниченной числом bits разрядностью аргументов."
   ]
  },
  {
   "cell_type": "code",
   "execution_count": 53,
   "metadata": {
    "id": "JeEq1l85ThyW"
   },
   "outputs": [
    {
     "name": "stdout",
     "output_type": "stream",
     "text": [
      "8\n"
     ]
    }
   ],
   "source": [
    "def mul16(x, y):\n",
    "    def mul_bits(x, y, bits):\n",
    "        x &= (2 ** bits - 1)\n",
    "        y &= (2 ** bits - 1)\n",
    "        return x * y\n",
    "\n",
    "    x_low = x & 0xff\n",
    "    x_high = x >> 8\n",
    "    y_low = y & 0xff\n",
    "    y_high = y >> 8\n",
    "\n",
    "    res_low = mul_bits(x_low, y_low, 8)\n",
    "    res_mid = mul_bits(x_low, y_high, 8) + mul_bits(x_high, y_low, 8)\n",
    "    res_high = mul_bits(x_high, y_high, 8)\n",
    "\n",
    "    res = (res_high << 16) + (res_mid << 8) + res_low\n",
    "    return res\n",
    "\n",
    "\n",
    "print(mul16(4, 2))"
   ]
  },
  {
   "cell_type": "markdown",
   "metadata": {
    "id": "_0RI9PveThyW"
   },
   "source": [
    "**3.8.** (уровень сложности: средний)\n",
    "\n",
    "Четыре умножения из предыдущей задачи – не предел. Советский ученый Анатолий Алексеевич Карацуба в 1960 г. [предложил](https://www.mathnet.ru/links/5c522538012c746223cf85fe9ea8fc07/tm1120.pdf) формулу (а для общего случая – рекурсивный алгоритм), требующую лишь трех умножений. Выведите эту формулу с подсказками от преподавателя и реализуйте функцию mul16k(x, y)."
   ]
  },
  {
   "cell_type": "code",
   "execution_count": 50,
   "outputs": [
    {
     "data": {
      "text/plain": "40"
     },
     "execution_count": 50,
     "metadata": {},
     "output_type": "execute_result"
    }
   ],
   "source": [
    "def mul16k(x, y):\n",
    "    def mul_bits(x, y, bits):\n",
    "        x &= (2 ** bits - 1)\n",
    "        y &= (2 ** bits - 1)\n",
    "        return x * y\n",
    "\n",
    "    x1, y1 = x >> 0x8, y >> 0x8\n",
    "    x2, y2 = x & 0xff, y & 0xff\n",
    "    p1 = mul_bits(x1, y1, 0x8)\n",
    "    p2 = mul_bits(x2, y2, 0x8)\n",
    "    p3 = mul_bits(x1 + x2, y1 + y2, 0x8) - p1 - p2\n",
    "    r = (p1 << 0x10) + (p3 << 0x8) + p2\n",
    "    assert r == x * y, f'{r} != {x} * {y}'\n",
    "    return r\n",
    "\n",
    "\n",
    "mul16k(10, 4)"
   ],
   "metadata": {
    "collapsed": false
   }
  },
  {
   "cell_type": "markdown",
   "metadata": {
    "id": "l7hrQqe0ThyW"
   },
   "source": [
    "Иногда возникает необходимость в создании программы, которая в качестве результата выдаст другую программу. В этом нет ничего необычного, так устроен, к примеру, компилятор. Но если задача стоит узкоспециальная, то речь идет о создании генератора программ по заданным параметрам.\n",
    "\n",
    "**3.9.** (уровень сложности: высокий)\n",
    "\n",
    "Реализуйте генератор программ fast_mul_gen(y) для задач 2.1-2.3. Воспользуйтесь ранее полученным кодом fast_mul. Ваша функция должна выдать текст функции f(x) (умножение на ранее заданный y), тело которой состоит из некоторого числа присваиваний. Для вывода функции используйте print. Добавьте автоматическое тестирование. Объясните, почему в общем случае у вас получается большее количество сложений, чем в задачах 2.1-2.3.\n",
    "\n",
    "**3.10.** (уровень сложности: низкий)\n",
    "\n",
    "Реализуйте на основе fast_mul_gen генератор программ для возведения в степень."
   ]
  },
  {
   "cell_type": "code",
   "execution_count": 49,
   "outputs": [
    {
     "name": "stdout",
     "output_type": "stream",
     "text": [
      "150\n"
     ]
    }
   ],
   "source": [
    "def fast_mul_gen(y):\n",
    "    res = 'def fast_mul_generated(x):\\n'\n",
    "    res += '\\tr = 0\\n'\n",
    "    while y > 1:\n",
    "        if y & 1:\n",
    "            res += '\\tr += x\\n'\n",
    "        res += '\\tx += x\\n'\n",
    "        y >>= 1\n",
    "    res += '\\tr += x\\n'\n",
    "    res += '\\treturn r\\n'\n",
    "    return res\n",
    "\n",
    "\n",
    "def test_fast_mul_gen(x, y):\n",
    "    code = fast_mul_gen(y)\n",
    "    testing = f'print(fast_mul_generated(x))'\n",
    "    exec(code + testing)\n",
    "    #print(fast_mul_generated(x))\n",
    "    #assert fast_mul_generated(x) == x * y, f'{f(x)} != {x} * {y}'\n",
    "\n",
    "\n",
    "test_fast_mul_gen(10, 15)"
   ],
   "metadata": {
    "collapsed": false
   }
  },
  {
   "cell_type": "code",
   "execution_count": 48,
   "outputs": [
    {
     "name": "stdout",
     "output_type": "stream",
     "text": [
      "100\n"
     ]
    }
   ],
   "source": [
    "def fast_pow_gen(y):\n",
    "    res = 'def fast_pow_generated(x):\\n'\n",
    "    res += '\\tr = 1\\n'\n",
    "    while y > 1:\n",
    "        if y & 1:\n",
    "            res += '\\tr *= x\\n'\n",
    "        res += '\\tx *= x\\n'\n",
    "        y >>= 1\n",
    "    res += '\\tr *= x\\n'\n",
    "    res += '\\treturn r\\n'\n",
    "    return res\n",
    "\n",
    "\n",
    "def test_fast_pow_gen(x, y):\n",
    "    code = fast_pow_gen(y)\n",
    "    testing = f'print(fast_pow_generated(x))'\n",
    "    exec(code + testing)\n",
    "\n",
    "\n",
    "test_fast_pow_gen(10, 2)"
   ],
   "metadata": {
    "collapsed": false
   }
  },
  {
   "cell_type": "markdown",
   "metadata": {
    "id": "9V2nPIeoThyX"
   },
   "source": [
    "## 4. Пиксельные шейдеры\n",
    "\n",
    "Шейдеры представляют собой небольшие программы, обычно предназначенные для исполнения на графической карте. Шейдеры могут работать параллельно и не запоминают свое состояние. Это просто функции, переводящие координаты экрана в цвет. Шейдеры широко используются для создания специальных эффектов, а также в играх. Обычно шейдеры программируют на C-подобных языках. Попробуем имитировать работу шейдеров прямо в Питоне!\n",
    "\n",
    "Итак, вся работа должна производится в теле функции func(x, y). Координаты заданы в диапазоне [0, 1). Функция возвращает три цветовых компонента, каждый из которых также находится в диапазоне [0, 1]. При решении задач старайтесь не использовать ветвлений и, тем более, циклов. Не забывайте, что шейдеры не имеют доступа к глобальным данным и поэтому даже модуль random использовать нельзя.\n",
    "\n",
    "Для решения задач понадобится приведенная ниже заготовка программы.\n",
    "\n",
    "**Дополнительная информация**\n",
    "\n",
    "1. Книга [The Book of Shaders](https://thebookofshaders.com/).\n",
    "1. Сайт известного специалиста в области процедурной графики [Inigo Quilez](https://iquilezles.org/articles/).\n",
    "1. О [Value Noise](https://www.scratchapixel.com/lessons/procedural-generation-virtual-worlds/procedural-patterns-noise-part-1/introduction.html)."
   ]
  },
  {
   "cell_type": "code",
   "execution_count": 47,
   "metadata": {
    "id": "WR4GygheThyX"
   },
   "outputs": [],
   "source": [
    "import tkinter as tk\n",
    "\n",
    "\n",
    "def pyshader(func, w, h):\n",
    "    scr = bytearray((0, 0, 0) * w * h)\n",
    "    for y in range(h):\n",
    "        for x in range(w):\n",
    "            p = (w * y + x) * 3\n",
    "            scr[p:p + 3] = [max(min(int(c * 255), 255), 0)\n",
    "                            for c in func(x / w, y / h)]\n",
    "    return bytes('P6\\n%d %d\\n255\\n' % (w, h), 'ascii') + scr\n",
    "\n",
    "\n",
    "# Ваш код здесь:\n",
    "def func(x, y):\n",
    "    return x, y, 0\n",
    "\n",
    "\n",
    "label = tk.Label()\n",
    "img = tk.PhotoImage(data=pyshader(func, 256, 256)).zoom(2, 2)\n",
    "label.pack()\n",
    "label.config(image=img)\n",
    "tk.mainloop()"
   ]
  },
  {
   "cell_type": "markdown",
   "metadata": {
    "id": "ahYzA3fPThyX"
   },
   "source": [
    "**4.1.** (уровень сложности: низкий)\n",
    "\n",
    "Изобразите свою версию знаменитого «Черного квадрата».\n",
    "\n",
    "![](https://github.com/true-grue/kispython/blob/main/images/pyshader2.png?raw=1)"
   ]
  },
  {
   "cell_type": "code",
   "execution_count": 1,
   "outputs": [],
   "source": [
    "import tkinter as tk\n",
    "\n",
    "\n",
    "def pyshader(func, w, h):\n",
    "    scr = bytearray((0, 0, 0) * w * h)\n",
    "    for y in range(h):\n",
    "        for x in range(w):\n",
    "            p = (w * y + x) * 3\n",
    "            scr[p:p + 3] = [max(min(int(c * 255), 255), 0)\n",
    "                            for c in func(x / w, y / h)]\n",
    "    return bytes('P6\\n%d %d\\n255\\n' % (w, h), 'ascii') + scr\n",
    "\n",
    "\n",
    "# Ваш код здесь:\n",
    "def func(x, y):\n",
    "    if 0.1 <= x <= y <= 0.9:\n",
    "        return 0, 0, 0\n",
    "    elif 0.1 <= y <= x <= 0.9:\n",
    "        return 0, 0, 0\n",
    "    return 1, 1, 1\n",
    "\n",
    "\n",
    "label = tk.Label()\n",
    "img = tk.PhotoImage(data=pyshader(func, 256, 256)).zoom(2, 2)\n",
    "label.pack()\n",
    "label.config(image=img)\n",
    "tk.mainloop()"
   ],
   "metadata": {
    "collapsed": false
   }
  },
  {
   "cell_type": "markdown",
   "metadata": {
    "id": "2OuTEZ8yThyX"
   },
   "source": [
    "**4.2.** (уровень сложности: низкий)\n",
    "\n",
    "Изобразите шар, показанный на примере ниже.\n",
    "\n",
    "![](https://github.com/true-grue/kispython/blob/main/images/pyshader1.png?raw=1)"
   ]
  },
  {
   "cell_type": "code",
   "execution_count": 45,
   "outputs": [],
   "source": [
    "import tkinter as tk\n",
    "\n",
    "\n",
    "def pyshader(func, w, h):\n",
    "    scr = bytearray((0, 0, 0) * w * h)\n",
    "    for y in range(h):\n",
    "        for x in range(w):\n",
    "            p = (w * y + x) * 3\n",
    "            scr[p:p + 3] = [max(min(int(c * 255), 255), 0)\n",
    "                            for c in func(x / w, y / h)]\n",
    "    return bytes('P6\\n%d %d\\n255\\n' % (w, h), 'ascii') + scr\n",
    "\n",
    "\n",
    "# Ваш код здесь:\n",
    "def func(x, y):\n",
    "    leftCirle = (x - 0.55) ** 2 + (y - 0.55) ** 2\n",
    "    rightCircle = (x - 0.5) ** 2 + (y - 0.5) ** 2\n",
    "    return 1 - leftCirle / 0.1, 1 - rightCircle / 0.1, 0\n",
    "\n",
    "\n",
    "label = tk.Label()\n",
    "img = tk.PhotoImage(data=pyshader(func, 256, 256)).zoom(2, 2)\n",
    "label.pack()\n",
    "label.config(image=img)\n",
    "tk.mainloop()"
   ],
   "metadata": {
    "collapsed": false
   }
  },
  {
   "cell_type": "markdown",
   "metadata": {
    "id": "lq8eLTWbThyY"
   },
   "source": [
    "**4.3.** (уровень сложности: средний)\n",
    "\n",
    "Изобразите знаменитого персонажа компьютерной игры.\n",
    "\n",
    "![](https://github.com/true-grue/kispython/blob/main/images/pyshader3.png?raw=1)"
   ]
  },
  {
   "cell_type": "code",
   "execution_count": 55,
   "outputs": [],
   "source": [
    "import tkinter as tk\n",
    "\n",
    "\n",
    "def pyshader(func, w, h):\n",
    "    scr = bytearray((0, 0, 0) * w * h)\n",
    "    for y in range(h):\n",
    "        for x in range(w):\n",
    "            p = (w * y + x) * 3\n",
    "            scr[p:p + 3] = [max(min(int(c * 255), 255), 0)\n",
    "                            for c in func(x / w, y / h)]\n",
    "    return bytes('P6\\n%d %d\\n255\\n' % (w, h), 'ascii') + scr\n",
    "\n",
    "\n",
    "def func(x, y):\n",
    "    circleBody = (x - 0.5) ** 2 + (y - 0.5) ** 2\n",
    "    circleEye = (x - 0.6) ** 2 + (y - 0.32) ** 2\n",
    "    r1 = 80 / 256\n",
    "    r2 = 15 / 256\n",
    "    body = (circleBody < r1 ** 2)\n",
    "    eye = (circleEye < r2 ** 2)\n",
    "    mouth = (x > 2 * y - 0.5) and (x > 1.5 - 2 * y) and (x > 0.5)\n",
    "    res = body and not eye and not mouth\n",
    "    return res, res, 0\n",
    "\n",
    "\n",
    "label = tk.Label()\n",
    "img = tk.PhotoImage(data=pyshader(func, 256, 256)).zoom(2, 2)\n",
    "label.pack()\n",
    "label.config(image=img)\n",
    "tk.mainloop()"
   ],
   "metadata": {
    "collapsed": false
   }
  },
  {
   "cell_type": "markdown",
   "metadata": {
    "id": "fBMDPBExThyY"
   },
   "source": [
    "**4.4.** (уровень сложности: низкий)\n",
    "\n",
    "Реализуйте функцию шума noise, которая по заданным координатам выдает случайное значение. Не используйте модуль random. Не забывайте, что глобальным состоянием пользоваться нельзя.\n",
    "\n",
    "![](https://github.com/true-grue/kispython/blob/main/images/pyshader4.png?raw=1)"
   ]
  },
  {
   "cell_type": "code",
   "execution_count": 43,
   "outputs": [],
   "source": [
    "import tkinter as tk\n",
    "\n",
    "\n",
    "def pyshader(func, w, h):\n",
    "    scr = bytearray((0, 0, 0) * w * h)\n",
    "    for y in range(h):\n",
    "        for x in range(w):\n",
    "            p = (w * y + x) * 3\n",
    "            scr[p:p + 3] = [max(min(int(c * 255), 255), 0)\n",
    "                            for c in func(x / w, y / h)]\n",
    "    return bytes('P6\\n%d %d\\n255\\n' % (w, h), 'ascii') + scr\n",
    "\n",
    "\n",
    "# Ваш код здесь:\n",
    "def func(x, y):\n",
    "    color = math.sin(x * 12.9 + y * 78) * 43758.5 - math.floor(\n",
    "        math.sin(x * 12.9 + y * 78) * 43758.5)\n",
    "    return color, color, color\n",
    "\n",
    "\n",
    "label = tk.Label()\n",
    "img = tk.PhotoImage(data=pyshader(func, 256, 256)).zoom(2, 2)\n",
    "label.pack()\n",
    "label.config(image=img)\n",
    "tk.mainloop()"
   ],
   "metadata": {
    "collapsed": false
   }
  },
  {
   "cell_type": "markdown",
   "metadata": {
    "id": "vstPWzL9ThyY"
   },
   "source": [
    "**4.5.** (уровень сложности: средний)\n",
    "\n",
    "Реализуйте функцию интерполяционного шума val_noise, используя алгоритм value noise (см. источники выше), а также ранее разработанную функцию noise.\n",
    "\n",
    "![](https://github.com/true-grue/kispython/blob/main/images/pyshader5.png?raw=1)"
   ]
  },
  {
   "cell_type": "code",
   "execution_count": 42,
   "outputs": [],
   "source": [
    "\n",
    "import math\n",
    "\n",
    "\n",
    "def pyshader(func, w, h):\n",
    "    scr = bytearray((0, 0, 0) * w * h)\n",
    "    for y in range(h):\n",
    "        for x in range(w):\n",
    "            p = (w * y + x) * 3\n",
    "            scr[p:p + 3] = [max(min(int(c * 255), 255), 0)\n",
    "                            for c in func(x / w, y / h)]\n",
    "    return bytes('P6\\n%d %d\\n255\\n' % (w, h), 'ascii') + scr\n",
    "\n",
    "\n",
    "def noise(x, y):\n",
    "    return fract(math.sin(x * 12.9898 + y * 78.233) * 43758.5453123)\n",
    "\n",
    "\n",
    "def lerp(a, b, x):\n",
    "    return (1 - x) * a + x * b\n",
    "\n",
    "\n",
    "def fract(x):\n",
    "    return x - math.floor(x)\n",
    "\n",
    "\n",
    "def val_noise(x, y):\n",
    "    ix = math.floor(x)\n",
    "    iy = math.floor(y)\n",
    "    fx = fract(x)\n",
    "    fy = fract(y)\n",
    "    ux = fx * fx * (3.0 - 2.0 * fx)\n",
    "    uy = fy * fy * (3.0 - 2.0 * fy)\n",
    "    return lerp(\n",
    "        lerp(noise(ix + 0.0, iy + 0.0), noise(ix + 1.0, iy + 0.0), ux),\n",
    "        lerp(noise(ix + 0.0, iy + 1.0), noise(ix + 1.0, iy + 1.0), ux),\n",
    "        uy\n",
    "    )\n",
    "\n",
    "\n",
    "# Ваш код здесь:\n",
    "def func(x, y):\n",
    "    color = val_noise(x * 20, y * 20)\n",
    "    return color, color, color\n",
    "\n",
    "\n",
    "label = tk.Label()\n",
    "img = tk.PhotoImage(data=pyshader(func, 256, 256)).zoom(2, 2)\n",
    "label.pack()\n",
    "label.config(image=img)\n",
    "tk.mainloop()"
   ],
   "metadata": {
    "collapsed": false
   }
  },
  {
   "cell_type": "markdown",
   "metadata": {
    "id": "9VzswBf2ThyY"
   },
   "source": [
    "**4.6.** (уровень сложности: средний)\n",
    "\n",
    "Изобразите облака с помощью алгоритма фрактального шума (fBm noise, см. источники выше) и с использованием ранее разработанной функции val_noise.\n",
    "\n",
    "![](https://github.com/true-grue/kispython/blob/main/images/pyshader6.png?raw=1)"
   ]
  },
  {
   "cell_type": "markdown",
   "metadata": {
    "id": "ZtuD5pqvThyY"
   },
   "source": [
    "**4.7.** (уровень сложности: хакер)\n",
    "\n",
    "Реализуйте более серьезную и производительную систему для работы с шейдерами в Питоне. Вот несколько идей для улучшения:\n",
    "\n",
    "1. Добавьте к координатам переменную t. Это позволит делать анимацию.\n",
    "1. Улучшите быстродействие системы. Что лучше использовать – модуль multiprocessing, JIT-компилятор Numba или что-то еще?\n",
    "1. Замените работу с Tkinter на систему с удобным редактором и просмотром, используя PySDL, PyQt или что-то иное."
   ]
  },
  {
   "cell_type": "markdown",
   "metadata": {
    "id": "1Cu8qL78ThyZ"
   },
   "source": [
    "## 5. Алгоритмическая игра DandyBot\n",
    "\n",
    "(уровень сложности: низкий)"
   ]
  },
  {
   "cell_type": "markdown",
   "metadata": {
    "id": "rAfsnUKVThyb"
   },
   "source": [
    "Скачайте [DandyBot](https://github.com/true-grue/DandyBot). Код для своего игрока записывается в файле user_bot.py. Игра запускается с помощью main.py.\n",
    "\n",
    "Вот простой пример содержимого user_bot.py:\n",
    "\n",
    "```Python\n",
    "def script(check, x, y):\n",
    "    return 'right'\n",
    "```\n",
    "\n",
    "Игровая логика записывается исключительно в теле функции script. В нашем случае игрок будет постоянно двигаться вправо.\n",
    "\n",
    "Полный список действий, которые можно возвращать из функции script, задающей «интеллект» игрока:\n",
    "\n",
    "* 'up'. Двигаться вверх на клетку.\n",
    "* 'down'. Двигаться вниз на клетку.\n",
    "* 'left'. Двигаться влево на клетку.\n",
    "* 'right'. Двигаться вправо на клетку.\n",
    "* 'pass'. Ничего не делать.\n",
    "* 'take'. Взять золото.\n",
    "\n",
    "Для изучения среды есть функция check:\n",
    "\n",
    "* check('player', x, y). True, если какой-то игрок в позиции (x, y).\n",
    "* check('gold', x , y). Если золото в позиции (x, y), то вернуть его количество, иначе вернуть 0.\n",
    "* check('wall', x, y). True, если стена в позиции (x, y).\n",
    "* check('level'). Вернуть номер текущего уровня.\n",
    "\n",
    "Ваша задача — пройти все уровни. Дополнительно устанавливаемыми библиотеками и глобальными данными пользоваться нельзя.\n",
    "\n",
    "Если игра Вам показалась слишком простой, то попробуйте ее улучшить: упростите код, добавьте новые функции, уровни."
   ]
  }
 ],
 "metadata": {
  "kernelspec": {
   "display_name": "Python 3",
   "language": "python",
   "name": "python3"
  },
  "language_info": {
   "codemirror_mode": {
    "name": "ipython",
    "version": 3
   },
   "file_extension": ".py",
   "mimetype": "text/x-python",
   "name": "python",
   "nbconvert_exporter": "python",
   "pygments_lexer": "ipython3",
   "version": "3.11.1"
  },
  "orig_nbformat": 4,
  "vscode": {
   "interpreter": {
    "hash": "61dfe9c682d93c0afd147a4694a60871cd02680c76d00a06359d9b0f9ffcab18"
   }
  },
  "colab": {
   "provenance": []
  }
 },
 "nbformat": 4,
 "nbformat_minor": 0
}
